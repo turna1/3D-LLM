{
  "nbformat": 4,
  "nbformat_minor": 0,
  "metadata": {
    "colab": {
      "provenance": [],
      "authorship_tag": "ABX9TyMDN0XW6wUpeuJfef/Tqkxe",
      "include_colab_link": true
    },
    "kernelspec": {
      "name": "python3",
      "display_name": "Python 3"
    },
    "language_info": {
      "name": "python"
    }
  },
  "cells": [
    {
      "cell_type": "markdown",
      "metadata": {
        "id": "view-in-github",
        "colab_type": "text"
      },
      "source": [
        "<a href=\"https://colab.research.google.com/github/turna1/3D-LLM/blob/main/picovoice_job_interview.ipynb\" target=\"_parent\"><img src=\"https://colab.research.google.com/assets/colab-badge.svg\" alt=\"Open In Colab\"/></a>"
      ]
    },
    {
      "cell_type": "markdown",
      "source": [
        "**Problem-1:**\n",
        "The probability of rain on a given calendar day in Vancouver is p[i], where i is the day's index. For example, p[0] is the probability of rain on January 1st, and p[10] is the probability of precipitation on January 11th. Assume the year has 365 days (i.e., p has 365 elements). What is the chance it rains more than n (e.g., 100) days in Vancouver? Write a function that accepts p (probabilities of rain on a given calendar day) and n as input arguments and returns the possibility of raining at least n days."
      ],
      "metadata": {
        "id": "h3tyKf-0NH6i"
      }
    },
    {
      "cell_type": "code",
      "source": [
        "from typing import Sequence\n",
        "\n",
        "def prob_rain_more_than_n(p: Sequence[float], n: int) -> float:\n",
        "    days = len(p)\n",
        "    dp = [0.0] * (days + 1)\n",
        "    dp[0] = 1.0  # probability of 0 rainy days before starting\n",
        "\n",
        "    for i in range(days):\n",
        "        new_dp = [0.0] * (days + 1)\n",
        "        for k in range(i + 1):\n",
        "            new_dp[k] += dp[k] * (1 - p[i])      # no rain\n",
        "            new_dp[k + 1] += dp[k] * p[i]        # rain\n",
        "        dp = new_dp\n",
        "\n",
        "    return sum(dp[n + 1:])  #probability of more than n rainy days\n"
      ],
      "metadata": {
        "id": "VhpRh1gMNIT5"
      },
      "execution_count": 61,
      "outputs": []
    },
    {
      "cell_type": "code",
      "source": [
        "#test assuming 20% chance every day\n",
        "p = [0.2] * 365\n",
        "print(prob_rain_more_than_n(p, 100))\n"
      ],
      "metadata": {
        "colab": {
          "base_uri": "https://localhost:8080/"
        },
        "id": "JbnzhX6mNXEW",
        "outputId": "564ccd11-8878-412a-f607-e86ed495bc6a"
      },
      "execution_count": 62,
      "outputs": [
        {
          "output_type": "stream",
          "name": "stdout",
          "text": [
            "0.0002636617393087031\n"
          ]
        }
      ]
    },
    {
      "cell_type": "markdown",
      "source": [
        "**Problem 2:**\n",
        "phoneme is a sound unit (similar to a character for text). We have an extensive pronunciation dictionary (think millions of words). Below is a snippet: ABACUS AE B AH K AH S BOOK B UH K THEIR DH EH R THERE DH EH R TOMATO T AH M AA T OW TOMATO T AH M EY T OW\n",
        "Given a sequence of phonemes as input (e.g. [\"DH\", \"EH\", \"R\", \"DH\", \"EH\", \"R\"]), find all the combinations of the words that can produce this sequence (e.g. [[\"THEIR\", \"THEIR\"], [\"THEIR\", \"THERE\"], [\"THERE\", \"THEIR\"], [\"THERE\", \"THERE\"]]). You can preprocess the dictionary into a different data structure if needed"
      ],
      "metadata": {
        "id": "vXobYLoLSx8w"
      }
    },
    {
      "cell_type": "code",
      "source": [
        "from typing import List, Tuple, Dict, Sequence\n",
        "from collections import defaultdict\n",
        "\n",
        "PRONUNCIATION_DICT = [\n",
        "    (\"ABACUS\", [\"AE\", \"B\", \"AH\", \"K\", \"AH\", \"S\"]),\n",
        "    (\"BOOK\", [\"B\", \"UH\", \"K\"]),\n",
        "    (\"THEIR\", [\"DH\", \"EH\", \"R\"]),\n",
        "    (\"THERE\", [\"DH\", \"EH\", \"R\"]),\n",
        "    (\"TOMATO\", [\"T\", \"AH\", \"M\", \"AA\", \"T\", \"OW\"]),\n",
        "    (\"TOMATO\", [\"T\", \"AH\", \"M\", \"EY\", \"T\", \"OW\"]),\n",
        "]\n",
        "\n",
        "  # preprocessing dict as phoneme tuples to words mapping\n",
        "def find_word_combos_with_pronunciation(phonemes: Sequence[str]) -> List[List[str]]:\n",
        "\n",
        "    phoneme_to_words: Dict[Tuple[str, ...], List[str]] = defaultdict(list)\n",
        "    for word, phonemes_seq in PRONUNCIATION_DICT:\n",
        "        phoneme_to_words[tuple(phonemes_seq)].append(word)\n",
        "\n",
        "    # memoization and search\n",
        "    memo = {}\n",
        "\n",
        "    def dfs(start: int) -> List[List[str]]:\n",
        "        if start == len(phonemes):\n",
        "            return [[]]  # empty combination is valid\n",
        "        if start in memo:\n",
        "            return memo[start]\n",
        "\n",
        "        results = []\n",
        "        for end in range(start + 1, len(phonemes) + 1):\n",
        "            chunk = tuple(phonemes[start:end])\n",
        "            if chunk in phoneme_to_words:\n",
        "                for word in phoneme_to_words[chunk]:\n",
        "                    for rest in dfs(end):\n",
        "                        results.append([word] + rest)\n",
        "\n",
        "        memo[start] = results\n",
        "        return results\n",
        "\n",
        "    return dfs(0)\n",
        "\n"
      ],
      "metadata": {
        "id": "Vln2MC3RS-Y5"
      },
      "execution_count": 27,
      "outputs": []
    },
    {
      "cell_type": "code",
      "source": [
        "#test for given input\n",
        "result = find_word_combos_with_pronunciation([\"DH\", \"EH\", \"R\", \"DH\", \"EH\", \"R\"])\n",
        "for combo in result:\n",
        "    print(combo)\n"
      ],
      "metadata": {
        "colab": {
          "base_uri": "https://localhost:8080/"
        },
        "id": "NLXLPvJ9T1Sz",
        "outputId": "62fca3e5-1da0-4c4c-b964-eeb5a4a6eb49"
      },
      "execution_count": 63,
      "outputs": [
        {
          "output_type": "stream",
          "name": "stdout",
          "text": [
            "['THEIR', 'THEIR']\n",
            "['THEIR', 'THERE']\n",
            "['THERE', 'THEIR']\n",
            "['THERE', 'THERE']\n"
          ]
        }
      ]
    },
    {
      "cell_type": "markdown",
      "source": [
        "**Problem 3:** Find the n most frequent words in the TensorFlow Shakespeare dataset."
      ],
      "metadata": {
        "id": "sx0UnxKLVWmq"
      }
    },
    {
      "cell_type": "markdown",
      "source": [
        "# **Soultion in Python**"
      ],
      "metadata": {
        "id": "zcaXuQYfg1ej"
      }
    },
    {
      "cell_type": "code",
      "source": [
        "# import necessary libraries\n",
        "import requests\n",
        "import seaborn as sns\n",
        "import matplotlib.pyplot as plt\n",
        "\n",
        "\n"
      ],
      "metadata": {
        "id": "PQZXYw9vTD8J"
      },
      "execution_count": 47,
      "outputs": []
    },
    {
      "cell_type": "code",
      "source": [
        "#get the dataset\n",
        "url = \"https://storage.googleapis.com/download.tensorflow.org/data/shakespeare.txt\"\n",
        "response = requests.get(url)\n",
        "text = response.text\n"
      ],
      "metadata": {
        "id": "FLm5Cu6YZFPD"
      },
      "execution_count": 48,
      "outputs": []
    },
    {
      "cell_type": "code",
      "source": [
        "#import libraries\n",
        "import re\n",
        "from collections import Counter\n",
        "\n",
        "\n"
      ],
      "metadata": {
        "id": "G4buOIqCWy79"
      },
      "execution_count": 49,
      "outputs": []
    },
    {
      "cell_type": "code",
      "source": [
        "#tokenize and lowercase all words\n",
        "words = re.findall(r'\\b\\w+\\b', text.lower())\n",
        "\n"
      ],
      "metadata": {
        "id": "p1GIAdjqW2jg"
      },
      "execution_count": 51,
      "outputs": []
    },
    {
      "cell_type": "code",
      "source": [
        "# count word frequencies\n",
        "counter = Counter(words)\n",
        "\n"
      ],
      "metadata": {
        "id": "KbG_2KRPW5lw"
      },
      "execution_count": 52,
      "outputs": []
    },
    {
      "cell_type": "code",
      "source": [
        "#print top n most frequent words\n",
        "n = int(input(\"Please input the value of n: \") or 10)\n",
        "print(f\"Top {n} most frequent words:\\n\")\n",
        "for word, freq in counter.most_common(n):\n",
        "    print(f\"{word}: {freq}\")"
      ],
      "metadata": {
        "colab": {
          "base_uri": "https://localhost:8080/"
        },
        "id": "1bIWMjz0W8Zd",
        "outputId": "51148e93-ff0f-49cc-b652-a0d9ef23dd4c"
      },
      "execution_count": 60,
      "outputs": [
        {
          "output_type": "stream",
          "name": "stdout",
          "text": [
            "Please input the value of n: 10\n",
            "Top 10 most frequent words:\n",
            "\n",
            "the: 6287\n",
            "and: 5690\n",
            "i: 5111\n",
            "to: 4934\n",
            "of: 3760\n",
            "you: 3211\n",
            "my: 3120\n",
            "a: 3018\n",
            "that: 2664\n",
            "in: 2403\n"
          ]
        }
      ]
    },
    {
      "cell_type": "code",
      "source": [
        "# visualize the top N most frequent words\n",
        "top_words = counter.most_common(n)\n",
        "words, freqs = zip(*top_words)\n",
        "plt.figure(figsize=(10, 6))\n",
        "sns.barplot(x=list(freqs), y=list(words), hue=list(words), dodge=False, palette=\"rocket\", legend=False)\n",
        "plt.title(f\"Top {n} Most Frequent Words in Shakespeare Dataset\")\n",
        "plt.xlabel(\"Frequency\")\n",
        "plt.ylabel(\"Word\")\n",
        "plt.tight_layout()\n",
        "plt.show()\n"
      ],
      "metadata": {
        "colab": {
          "base_uri": "https://localhost:8080/",
          "height": 607
        },
        "id": "3_HNkbLEXONY",
        "outputId": "bd0afc58-46c1-4d32-8ac1-78741bc99a7b"
      },
      "execution_count": 67,
      "outputs": [
        {
          "output_type": "display_data",
          "data": {
            "text/plain": [
              "<Figure size 1000x600 with 1 Axes>"
            ],
            "image/png": "[encoded data removed]"
          },
          "metadata": {}
        }
      ]
    },
    {
      "cell_type": "markdown",
      "source": [
        "# **Soultion in C**"
      ],
      "metadata": {
        "id": "hIOC-GxDgoUm"
      }
    },
    {
      "cell_type": "code",
      "source": [
        "# Download the Shakespeare dataset\n",
        "!wget -O shakespeare.txt https://storage.googleapis.com/download.tensorflow.org/data/shakespeare.txt\n",
        "\n",
        "# Download uthash.h (single-header hash table library for C)\n",
        "!wget -O uthash.h https://raw.githubusercontent.com/troydhanson/uthash/master/src/uthash.h\n"
      ],
      "metadata": {
        "colab": {
          "base_uri": "https://localhost:8080/"
        },
        "id": "AhCKBKTPfmhT",
        "outputId": "ec0f3c2e-7fee-4956-f8a1-f8dc2f36fb9b"
      },
      "execution_count": null,
      "outputs": [
        {
          "output_type": "stream",
          "name": "stdout",
          "text": [
            "--2025-04-10 20:57:44--  https://storage.googleapis.com/download.tensorflow.org/data/shakespeare.txt\n",
            "Resolving storage.googleapis.com (storage.googleapis.com)... 173.194.215.207, 173.194.216.207, 173.194.217.207, ...\n",
            "Connecting to storage.googleapis.com (storage.googleapis.com)|173.194.215.207|:443... connected.\n",
            "HTTP request sent, awaiting response... 200 OK\n",
            "Length: 1115394 (1.1M) [text/plain]\n",
            "Saving to: ‘shakespeare.txt’\n",
            "\n",
            "\rshakespeare.txt       0%[                    ]       0  --.-KB/s               \rshakespeare.txt     100%[===================>]   1.06M  --.-KB/s    in 0.01s   \n",
            "\n",
            "2025-04-10 20:57:44 (105 MB/s) - ‘shakespeare.txt’ saved [1115394/1115394]\n",
            "\n",
            "--2025-04-10 20:57:44--  https://raw.githubusercontent.com/troydhanson/uthash/master/src/uthash.h\n",
            "Resolving raw.githubusercontent.com (raw.githubusercontent.com)... 185.199.108.133, 185.199.109.133, 185.199.110.133, ...\n",
            "Connecting to raw.githubusercontent.com (raw.githubusercontent.com)|185.199.108.133|:443... connected.\n",
            "HTTP request sent, awaiting response... 200 OK\n",
            "Length: 73749 (72K) [text/plain]\n",
            "Saving to: ‘uthash.h’\n",
            "\n",
            "uthash.h            100%[===================>]  72.02K  --.-KB/s    in 0.02s   \n",
            "\n",
            "2025-04-10 20:57:44 (2.83 MB/s) - ‘uthash.h’ saved [73749/73749]\n",
            "\n"
          ]
        }
      ]
    },
    {
      "cell_type": "code",
      "source": [
        "%%writefile find_freq.c\n",
        "#include <stdio.h>\n",
        "#include <stdlib.h>\n",
        "#include <string.h>\n",
        "#include <ctype.h>\n",
        "#include <stdint.h>\n",
        "#include \"uthash.h\"\n",
        "\n",
        "#define MAX_WORD_LEN 100\n",
        "\n",
        "typedef struct {\n",
        "    char word[MAX_WORD_LEN];\n",
        "    int count;\n",
        "    UT_hash_handle hh;\n",
        "} WordEntry;\n",
        "\n",
        "int cmp(const void *a, const void *b) {\n",
        "    WordEntry *wa = *(WordEntry **)a;\n",
        "    WordEntry *wb = *(WordEntry **)b;\n",
        "    return wb->count - wa->count;\n",
        "}\n",
        "\n",
        "void to_lowercase(char *str) {\n",
        "    for (int i = 0; str[i]; i++)\n",
        "        str[i] = tolower(str[i]);\n",
        "}\n",
        "\n",
        "char **find_frequent_words(const char *path, int32_t n) {\n",
        "    FILE *fp = fopen(path, \"r\");\n",
        "    if (!fp) {\n",
        "        perror(\"File open failed\");\n",
        "        return NULL;\n",
        "    }\n",
        "     // Clean word: lowercase, remove punctuation\n",
        "    WordEntry *words = NULL, *entry;\n",
        "    char buf[MAX_WORD_LEN];\n",
        "    while (fscanf(fp, \"%99s\", buf) == 1) {\n",
        "        int len = strlen(buf);\n",
        "        int k = 0;\n",
        "        for (int i = 0; i < len; i++) {\n",
        "            if (isalpha(buf[i]))\n",
        "                buf[k++] = tolower(buf[i]);\n",
        "        }\n",
        "        buf[k] = '\\0';\n",
        "        if (k == 0) continue;\n",
        "\n",
        "        HASH_FIND_STR(words, buf, entry);\n",
        "        if (!entry) {\n",
        "            entry = malloc(sizeof(WordEntry));\n",
        "            strncpy(entry->word, buf, MAX_WORD_LEN);\n",
        "            entry->count = 1;\n",
        "            HASH_ADD_STR(words, word, entry);\n",
        "        } else {\n",
        "            entry->count++;\n",
        "        }\n",
        "    }\n",
        "    fclose(fp);\n",
        "\n",
        "\n",
        "    int total = HASH_COUNT(words);\n",
        "    WordEntry **array = malloc(total * sizeof(WordEntry *));\n",
        "    WordEntry *cur;\n",
        "    int i = 0;\n",
        "    for (cur = words; cur != NULL; cur = cur->hh.next)\n",
        "        array[i++] = cur;\n",
        "\n",
        "    qsort(array, total, sizeof(WordEntry *), cmp);\n",
        "\n",
        "    printf(\"Top %d frequent words:\\n\", n);\n",
        "    for (i = 0; i < n && i < total; i++)\n",
        "        printf(\"%s: %d\\n\", array[i]->word, array[i]->count);\n",
        "\n",
        "    return NULL;\n",
        "}\n",
        "\n",
        "int main() {\n",
        "    find_frequent_words(\"shakespeare.txt\", 10);\n",
        "    return 0;\n",
        "}\n"
      ],
      "metadata": {
        "colab": {
          "base_uri": "https://localhost:8080/"
        },
        "id": "fpoBOaXlfoxe",
        "outputId": "4ed3c444-6489-4709-c3c9-7a0c428cc2ee"
      },
      "execution_count": null,
      "outputs": [
        {
          "output_type": "stream",
          "name": "stdout",
          "text": [
            "Writing find_freq.c\n"
          ]
        }
      ]
    },
    {
      "cell_type": "code",
      "source": [
        "!gcc find_freq.c -o find_freq\n",
        "!./find_freq\n"
      ],
      "metadata": {
        "colab": {
          "base_uri": "https://localhost:8080/"
        },
        "id": "fDh9dMbxfvEd",
        "outputId": "c94d102a-b630-476a-b3ce-f8f271a4b3a5"
      },
      "execution_count": null,
      "outputs": [
        {
          "output_type": "stream",
          "name": "stdout",
          "text": [
            "Top 10 frequent words:\n",
            "the: 6283\n",
            "and: 5680\n",
            "to: 4766\n",
            "i: 4653\n",
            "of: 3757\n",
            "you: 3142\n",
            "my: 3118\n",
            "a: 2987\n",
            "that: 2569\n",
            "in: 2362\n"
          ]
        }
      ]
    }
  ]
}